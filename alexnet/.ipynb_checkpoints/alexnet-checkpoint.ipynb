{
 "cells": [
  {
   "cell_type": "code",
   "execution_count": 10,
   "metadata": {},
   "outputs": [],
   "source": [
    "import pandas as pd\n",
    "import numpy as np\n",
    "import matplotlib.pyplot as plt\n",
    "import keras\n",
    "from keras.models import Model,Sequential\n",
    "from keras.layers import Dense,Conv2D,MaxPooling2D,Flatten,Activation,Dropout,Input\n",
    "\n",
    "\n",
    "\n",
    "\n",
    "\n",
    "def convnet(input_shape,classes):\n",
    "    input_X=Input(shape=input_shape)\n",
    "    X=Conv2D(filters=96,kernel_size=(11,11),strides=(4,4),padding=\"valid\")(input_X)\n",
    "    X=Activation(\"relu\")(X)\n",
    "    X=MaxPooling2D(pool_size=(3,3),strides=(2,2))(X)\n",
    "    \n",
    "    X=Conv2D(filters=256,kernel_size=(5,5),strides=(1,1),padding=\"same\",activation=\"relu\")(X)\n",
    "    X=MaxPooling2D(pool_size=(3,3),strides=(2,2))(X)\n",
    "    \n",
    "    X=Conv2D(filters=384,kernel_size=(3,3),strides=(1,1),padding=\"same\",activation=\"relu\")(X)\n",
    "    X=Conv2D(filters=384,kernel_size=(3,3),strides=(1,1),padding=\"same\",activation=\"relu\")(X)\n",
    "    X=Conv2D(filters=256,kernel_size=(3,3),strides=(1,1),padding=\"same\",activation=\"relu\")(X)\n",
    "    X=MaxPooling2D(pool_size=(3,3),strides=(2,2))(X)\n",
    "    X=Flatten()(X)\n",
    "    \n",
    "    X=Dense(units=4096,activation=\"relu\")(X)\n",
    "    X=Dropout(0.5)(X)\n",
    "    \n",
    "    X=Dense(units=4096,activation=\"relu\")(X)\n",
    "    X=Dropout(0.3)(X)\n",
    "    \n",
    "    model=Model(inputs=input_X,outputs=X)\n",
    "    return model\n",
    "\n",
    "model=convnet((327,327,2),10)"
   ]
  }
 ],
 "metadata": {
  "kernelspec": {
   "display_name": "Python 3",
   "language": "python",
   "name": "python3"
  },
  "language_info": {
   "codemirror_mode": {
    "name": "ipython",
    "version": 3
   },
   "file_extension": ".py",
   "mimetype": "text/x-python",
   "name": "python",
   "nbconvert_exporter": "python",
   "pygments_lexer": "ipython3",
   "version": "3.6.8"
  }
 },
 "nbformat": 4,
 "nbformat_minor": 2
}
