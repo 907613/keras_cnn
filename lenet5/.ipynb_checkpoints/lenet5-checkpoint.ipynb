{
 "cells": [
  {
   "cell_type": "code",
   "execution_count": 7,
   "metadata": {},
   "outputs": [],
   "source": [
    "import keras\n",
    "import numpy as np\n",
    "import pandas as pd\n",
    "import matplotlib.pyplot as plt\n",
    "from keras.layers import Conv2D,BatchNormalization,Activation,Dense,Flatten,Input,MaxPooling2D\n",
    "from keras.models import Model,Sequential\n",
    "from keras.utils.vis_utils import plot_model\n",
    "\n",
    "def convnet(input_shape,classes):\n",
    "    input_X=Input(shape=input_shape)\n",
    "    X=Conv2D(filters=6,kernel_size=(5,5),padding=\"valid\")(input_X)\n",
    "    X=Activation(\"tanh\")(X)\n",
    "    X=MaxPooling2D(pool_size=(2,2))(X)\n",
    "    \n",
    "    X=Conv2D(filters=16,kernel_size=(5,5),padding=\"valid\")(X)\n",
    "    X=Activation(\"tanh\")(X)\n",
    "    X=MaxPooling2D(pool_size=(2,2))(X)\n",
    "    \n",
    "    X=Flatten()(X)\n",
    "    X=Dense(120)(X)\n",
    "    X=Activation(\"tanh\")(X)\n",
    "    X=Dense(84)(X)\n",
    "    X=Activation(\"tanh\")(X)\n",
    "    X=Dense(classes,activation=\"softmax\")(X)\n",
    "    model=Model(inputs=input_X,outputs=X)\n",
    "    return model\n",
    "\n",
    "model=convnet(input_shape=(247,247,2),classes=10)"
   ]
  }
 ],
 "metadata": {
  "kernelspec": {
   "display_name": "Python 3",
   "language": "python",
   "name": "python3"
  },
  "language_info": {
   "codemirror_mode": {
    "name": "ipython",
    "version": 3
   },
   "file_extension": ".py",
   "mimetype": "text/x-python",
   "name": "python",
   "nbconvert_exporter": "python",
   "pygments_lexer": "ipython3",
   "version": "3.6.8"
  }
 },
 "nbformat": 4,
 "nbformat_minor": 2
}
