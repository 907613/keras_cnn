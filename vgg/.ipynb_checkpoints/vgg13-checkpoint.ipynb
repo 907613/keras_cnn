{
 "cells": [
  {
   "cell_type": "code",
   "execution_count": 1,
   "metadata": {},
   "outputs": [
    {
     "name": "stderr",
     "output_type": "stream",
     "text": [
      "Using TensorFlow backend.\n"
     ]
    }
   ],
   "source": [
    "import pandas as pd\n",
    "import numpy as np\n",
    "import matplotlib.pyplot as plt\n",
    "import scipy as sns\n",
    "import keras\n",
    "from keras.models import Model,Sequential\n",
    "from keras.layers import Dense,MaxPooling2D,Activation,Flatten,Input,Conv2D,Dropout\n",
    "\n",
    "\n",
    "\n",
    "def convnet(input_shape,classes):\n",
    "    model=Sequential()\n",
    "    \n",
    "    model.add(Conv2D(filters=64,kernel_size=(3,3),activation=\"relu\",kernel_initializer=\"uniform\",\n",
    "                    input_shape=input_shape,padding=\"same\",strides=(1,1)))\n",
    "    \n",
    "    model.add(Conv2D(filters=64,kernel_size=(3,3),strides=(1,1),padding=\"same\",\n",
    "                    activation=\"relu\",kernel_initializer=\"uniform\"))\n",
    "    model.add(MaxPooling2D(pool_size=(2,2)))\n",
    "    model.add(Conv2D(filters=128,kernel_size=(3,3),strides=(1,1),padding=\"same\",activation=\"relu\",\n",
    "                    kernel_initializer=\"uniform\"))\n",
    "    \n",
    "    model.add(Conv2D(filters=128,kernel_size=(3,3),strides=(1,1),padding=\"same\",activation=\"relu\",\n",
    "                    kernel_initializer=\"uniform\"))\n",
    "        \n",
    "    model.add(MaxPooling2D(pool_size=(2,2)))\n",
    "    \n",
    "    model.add(Conv2D(filters=256,kernel_size=(3,3),strides=(1,1),padding=\"same\",activation=\"relu\",\n",
    "                    kernel_initializer=\"uniform\"))\n",
    "    \n",
    "    model.add(Conv2D(filters=256,kernel_size=(3,3),strides=(1,1),padding=\"same\",activation=\"relu\",\n",
    "                    kernel_initializer=\"uniform\"))\n",
    "        \n",
    "    model.add(MaxPooling2D(pool_size=(2,2)))\n",
    "    \n",
    "\n",
    "     model.add(Conv2D(filters=512,kernel_size=(3,3),strides=(1,1),padding=\"same\",activation=\"relu\",\n",
    "                    kernel_initializer=\"uniform\"))\n",
    "    \n",
    "    model.add(Conv2D(filters=512,kernel_size=(3,3),strides=(1,1),padding=\"same\",activation=\"relu\",\n",
    "                    kernel_initializer=\"uniform\"))\n",
    "        \n",
    "    model.add(MaxPooling2D(pool_size=(2,2)))\n",
    "    \n",
    "    model.add(Conv2D(filters=512,kernel_size=(3,3),strides=(1,1),padding=\"same\",activation=\"relu\",\n",
    "                    kernel_initializer=\"uniform\"))\n",
    "    \n",
    "    model.add(Conv2D(filters=512,kernel_size=(3,3),strides=(1,1),padding=\"same\",activation=\"relu\",\n",
    "                    kernel_initializer=\"uniform\"))\n",
    "        \n",
    "    model.add(MaxPooling2D(pool_size=(2,2)))\n",
    "    \n",
    "    model.add(Flatten())\n",
    "    \n",
    "    model.add(Dense(units=4096,activation=\"relu\"))\n",
    "    model.add(Dropout(0.5))\n",
    "    \n",
    "    model.add(Dense(units=4096,activation=\"relu\"))\n",
    "    model.add(Dropout(0.5))\n",
    "    model.add(Dense(units=classes,activation=\"softmax\"))\n",
    "    return model\n",
    "\n",
    "model=convnet(input_shape=(224,224,3),classes=1000)\n",
    "    \n",
    "\n"
   ]
  }
 ],
 "metadata": {
  "kernelspec": {
   "display_name": "Python 3",
   "language": "python",
   "name": "python3"
  },
  "language_info": {
   "codemirror_mode": {
    "name": "ipython",
    "version": 3
   },
   "file_extension": ".py",
   "mimetype": "text/x-python",
   "name": "python",
   "nbconvert_exporter": "python",
   "pygments_lexer": "ipython3",
   "version": "3.6.8"
  }
 },
 "nbformat": 4,
 "nbformat_minor": 2
}
