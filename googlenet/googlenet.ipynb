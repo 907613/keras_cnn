{
 "cells": [
  {
   "cell_type": "code",
   "execution_count": 8,
   "metadata": {},
   "outputs": [
    {
     "name": "stdout",
     "output_type": "stream",
     "text": [
      "WARNING:tensorflow:From /home/muzhailong/Applications/anaconda3/lib/python3.6/site-packages/keras/backend/tensorflow_backend.py:1204: calling reduce_max (from tensorflow.python.ops.math_ops) with keep_dims is deprecated and will be removed in a future version.\n",
      "Instructions for updating:\n",
      "keep_dims is deprecated, use keepdims instead\n",
      "WARNING:tensorflow:From /home/muzhailong/Applications/anaconda3/lib/python3.6/site-packages/keras/backend/tensorflow_backend.py:1238: calling reduce_sum (from tensorflow.python.ops.math_ops) with keep_dims is deprecated and will be removed in a future version.\n",
      "Instructions for updating:\n",
      "keep_dims is deprecated, use keepdims instead\n"
     ]
    }
   ],
   "source": [
    "import pandas as pd\n",
    "import numpy as np\n",
    "import matplotlib.pyplot as plt\n",
    "import scipy as sns\n",
    "import keras\n",
    "from keras.models import Model,Sequential\n",
    "from keras.layers import Dense,MaxPooling2D,Activation,Flatten,Input,Conv2D,Dropout,AveragePooling2D,BatchNormalization\n",
    "from keras.layers import concatenate\n",
    "\n",
    "def conv2d_bn(X,bn_filter,kernel_size,padding=\"same\",strides=(1,1)):\n",
    "    \n",
    "    X=Conv2D(filters=bn_filter,kernel_size=kernel_size,padding=padding,strides=strides)(X)\n",
    "    X=BatchNormalization(axis=3)(X)\n",
    "    return X\n",
    "\n",
    "\n",
    "def inception(X,bn_filter):\n",
    "    branch1x1=conv2d_bn(X,bn_filter,(1,1),padding=\"same\",strides=(1,1))\n",
    "    \n",
    "    branch3x3=conv2d_bn(X,bn_filter,(1,1))\n",
    "    branch3x3=conv2d_bn(branch3x3,bn_filter,(3,3),padding=\"same\",strides=(1,1))\n",
    "    \n",
    "    branch5x5=conv2d_bn(X,bn_filter,(1,1))\n",
    "    branch5x5=conv2d_bn(branch5x5,bn_filter,kernel_size=(5,5))\n",
    "    \n",
    "    branchpool=MaxPooling2D(pool_size=(3,3),strides=(1,1),padding=\"same\")(X)\n",
    "    branchpool=conv2d_bn(branchpool,bn_filter,kernel_size=(1,1))\n",
    "    \n",
    "    X=concatenate([branch1x1,branch3x3,branch5x5,branchpool])\n",
    "    return X\n",
    "\n",
    "def convnet(input_shape,classes):\n",
    "    input_x=Input(shape=input_shape)\n",
    "    X=conv2d_bn(input_x,64,(7,7),strides=(2,2),padding=\"same\")\n",
    "    X=MaxPooling2D(pool_size=(3,3),strides=(2,2),padding=\"same\")(X)\n",
    "    X=conv2d_bn(X,192,(3,3),strides=(1,1),padding=\"same\")\n",
    "    X=MaxPooling2D(pool_size=(3,3),strides=(2,2),padding=\"same\")(X)\n",
    "    \n",
    "    X=inception(X,120)\n",
    "    X=MaxPooling2D(pool_size=(3,3),strides=(2,2),padding=\"same\")(X)\n",
    "    X=inception(X,128)\n",
    "    X=inception(X,128)\n",
    "    X=inception(X,128)\n",
    "    X=inception(X,132)\n",
    "    X=inception(X,208)\n",
    "    X=MaxPooling2D(pool_size=(3,3),strides=(2,2),padding=\"same\")(X)\n",
    "    X=inception(X,208)\n",
    "    X=inception(X,256)\n",
    "    X=AveragePooling2D(pool_size=(7,7),strides=(7,7),padding=\"same\")(X)\n",
    "    X=Dropout(0.4)(X)\n",
    "    X=Dense(units=classes,activation=\"relu\")(X)\n",
    "    X=Dense(units=classes,activation=\"softmax\")(X)\n",
    "    model=Model(inputs=input_x,outputs=X)\n",
    "    return model\n",
    "\n",
    "model=convnet((800,800,3),1000)\n",
    "\n",
    "    X=inception(X,64)\n",
    "\n",
    "\n",
    "\n",
    "\n",
    "\n",
    "\n",
    "\n"
   ]
  }
 ],
 "metadata": {
  "kernelspec": {
   "display_name": "Python 3",
   "language": "python",
   "name": "python3"
  },
  "language_info": {
   "codemirror_mode": {
    "name": "ipython",
    "version": 3
   },
   "file_extension": ".py",
   "mimetype": "text/x-python",
   "name": "python",
   "nbconvert_exporter": "python",
   "pygments_lexer": "ipython3",
   "version": "3.6.8"
  }
 },
 "nbformat": 4,
 "nbformat_minor": 2
}
