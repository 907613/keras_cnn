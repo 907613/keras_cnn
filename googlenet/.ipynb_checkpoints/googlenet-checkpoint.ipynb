{
 "cells": [
  {
   "cell_type": "code",
   "execution_count": 5,
   "metadata": {},
   "outputs": [
    {
     "ename": "TypeError",
     "evalue": "conv2d_bn() missing 1 required positional argument: 'kernel_size'",
     "output_type": "error",
     "traceback": [
      "\u001b[0;31m---------------------------------------------------------------------------\u001b[0m",
      "\u001b[0;31mTypeError\u001b[0m                                 Traceback (most recent call last)",
      "\u001b[0;32m<ipython-input-5-32f865e8d22f>\u001b[0m in \u001b[0;36m<module>\u001b[0;34m()\u001b[0m\n\u001b[1;32m     55\u001b[0m     \u001b[0;32mreturn\u001b[0m \u001b[0mmodel\u001b[0m\u001b[0;34m\u001b[0m\u001b[0;34m\u001b[0m\u001b[0m\n\u001b[1;32m     56\u001b[0m \u001b[0;34m\u001b[0m\u001b[0m\n\u001b[0;32m---> 57\u001b[0;31m \u001b[0mmodel\u001b[0m\u001b[0;34m=\u001b[0m\u001b[0mconvnet\u001b[0m\u001b[0;34m(\u001b[0m\u001b[0;34m(\u001b[0m\u001b[0;36m800\u001b[0m\u001b[0;34m,\u001b[0m\u001b[0;36m800\u001b[0m\u001b[0;34m,\u001b[0m\u001b[0;36m3\u001b[0m\u001b[0;34m)\u001b[0m\u001b[0;34m,\u001b[0m\u001b[0;36m1000\u001b[0m\u001b[0;34m)\u001b[0m\u001b[0;34m\u001b[0m\u001b[0;34m\u001b[0m\u001b[0m\n\u001b[0m\u001b[1;32m     58\u001b[0m \u001b[0;34m\u001b[0m\u001b[0m\n\u001b[1;32m     59\u001b[0m \u001b[0;34m\u001b[0m\u001b[0m\n",
      "\u001b[0;32m<ipython-input-5-32f865e8d22f>\u001b[0m in \u001b[0;36mconvnet\u001b[0;34m(input_shape, classes)\u001b[0m\n\u001b[1;32m     37\u001b[0m     \u001b[0mX\u001b[0m\u001b[0;34m=\u001b[0m\u001b[0mMaxPooling2D\u001b[0m\u001b[0;34m(\u001b[0m\u001b[0mpool_size\u001b[0m\u001b[0;34m=\u001b[0m\u001b[0;34m(\u001b[0m\u001b[0;36m3\u001b[0m\u001b[0;34m,\u001b[0m\u001b[0;36m3\u001b[0m\u001b[0;34m)\u001b[0m\u001b[0;34m,\u001b[0m\u001b[0mstrides\u001b[0m\u001b[0;34m=\u001b[0m\u001b[0;34m(\u001b[0m\u001b[0;36m2\u001b[0m\u001b[0;34m,\u001b[0m\u001b[0;36m2\u001b[0m\u001b[0;34m)\u001b[0m\u001b[0;34m,\u001b[0m\u001b[0mpadding\u001b[0m\u001b[0;34m=\u001b[0m\u001b[0;34m\"same\"\u001b[0m\u001b[0;34m)\u001b[0m\u001b[0;34m(\u001b[0m\u001b[0mX\u001b[0m\u001b[0;34m)\u001b[0m\u001b[0;34m\u001b[0m\u001b[0;34m\u001b[0m\u001b[0m\n\u001b[1;32m     38\u001b[0m \u001b[0;34m\u001b[0m\u001b[0m\n\u001b[0;32m---> 39\u001b[0;31m     \u001b[0mX\u001b[0m\u001b[0;34m=\u001b[0m\u001b[0minception\u001b[0m\u001b[0;34m(\u001b[0m\u001b[0mX\u001b[0m\u001b[0;34m,\u001b[0m\u001b[0;36m64\u001b[0m\u001b[0;34m)\u001b[0m\u001b[0;34m\u001b[0m\u001b[0;34m\u001b[0m\u001b[0m\n\u001b[0m\u001b[1;32m     40\u001b[0m     \u001b[0mX\u001b[0m\u001b[0;34m=\u001b[0m\u001b[0minception\u001b[0m\u001b[0;34m(\u001b[0m\u001b[0mX\u001b[0m\u001b[0;34m,\u001b[0m\u001b[0;36m120\u001b[0m\u001b[0;34m)\u001b[0m\u001b[0;34m\u001b[0m\u001b[0;34m\u001b[0m\u001b[0m\n\u001b[1;32m     41\u001b[0m     \u001b[0mX\u001b[0m\u001b[0;34m=\u001b[0m\u001b[0mMaxPooling2D\u001b[0m\u001b[0;34m(\u001b[0m\u001b[0mpool_size\u001b[0m\u001b[0;34m=\u001b[0m\u001b[0;34m(\u001b[0m\u001b[0;36m3\u001b[0m\u001b[0;34m,\u001b[0m\u001b[0;36m3\u001b[0m\u001b[0;34m)\u001b[0m\u001b[0;34m,\u001b[0m\u001b[0mstrides\u001b[0m\u001b[0;34m=\u001b[0m\u001b[0;34m(\u001b[0m\u001b[0;36m2\u001b[0m\u001b[0;34m,\u001b[0m\u001b[0;36m2\u001b[0m\u001b[0;34m)\u001b[0m\u001b[0;34m,\u001b[0m\u001b[0mpadding\u001b[0m\u001b[0;34m=\u001b[0m\u001b[0;34m\"same\"\u001b[0m\u001b[0;34m)\u001b[0m\u001b[0;34m(\u001b[0m\u001b[0mX\u001b[0m\u001b[0;34m)\u001b[0m\u001b[0;34m\u001b[0m\u001b[0;34m\u001b[0m\u001b[0m\n",
      "\u001b[0;32m<ipython-input-5-32f865e8d22f>\u001b[0m in \u001b[0;36minception\u001b[0;34m(X, bn_filter)\u001b[0m\n\u001b[1;32m     22\u001b[0m \u001b[0;34m\u001b[0m\u001b[0m\n\u001b[1;32m     23\u001b[0m     \u001b[0mbranch5x5\u001b[0m\u001b[0;34m=\u001b[0m\u001b[0mconv2d_bn\u001b[0m\u001b[0;34m(\u001b[0m\u001b[0mX\u001b[0m\u001b[0;34m,\u001b[0m\u001b[0mbn_filter\u001b[0m\u001b[0;34m,\u001b[0m\u001b[0;34m(\u001b[0m\u001b[0;36m1\u001b[0m\u001b[0;34m,\u001b[0m\u001b[0;36m1\u001b[0m\u001b[0;34m)\u001b[0m\u001b[0;34m)\u001b[0m\u001b[0;34m\u001b[0m\u001b[0;34m\u001b[0m\u001b[0m\n\u001b[0;32m---> 24\u001b[0;31m     \u001b[0mbranch5x5\u001b[0m\u001b[0;34m=\u001b[0m\u001b[0mconv2d_bn\u001b[0m\u001b[0;34m(\u001b[0m\u001b[0mbranch5x5\u001b[0m\u001b[0;34m,\u001b[0m\u001b[0mbn_filter\u001b[0m\u001b[0;34m)\u001b[0m\u001b[0;34m\u001b[0m\u001b[0;34m\u001b[0m\u001b[0m\n\u001b[0m\u001b[1;32m     25\u001b[0m \u001b[0;34m\u001b[0m\u001b[0m\n\u001b[1;32m     26\u001b[0m     \u001b[0mbranchpool\u001b[0m\u001b[0;34m=\u001b[0m\u001b[0mMaxPooling2D\u001b[0m\u001b[0;34m(\u001b[0m\u001b[0mpool_size\u001b[0m\u001b[0;34m=\u001b[0m\u001b[0;34m(\u001b[0m\u001b[0;36m3\u001b[0m\u001b[0;34m,\u001b[0m\u001b[0;36m3\u001b[0m\u001b[0;34m)\u001b[0m\u001b[0;34m,\u001b[0m\u001b[0mstrides\u001b[0m\u001b[0;34m=\u001b[0m\u001b[0;34m(\u001b[0m\u001b[0;36m1\u001b[0m\u001b[0;34m,\u001b[0m\u001b[0;36m1\u001b[0m\u001b[0;34m)\u001b[0m\u001b[0;34m,\u001b[0m\u001b[0mpadding\u001b[0m\u001b[0;34m=\u001b[0m\u001b[0;34m\"same\"\u001b[0m\u001b[0;34m)\u001b[0m\u001b[0;34m(\u001b[0m\u001b[0mX\u001b[0m\u001b[0;34m)\u001b[0m\u001b[0;34m\u001b[0m\u001b[0;34m\u001b[0m\u001b[0m\n",
      "\u001b[0;31mTypeError\u001b[0m: conv2d_bn() missing 1 required positional argument: 'kernel_size'"
     ]
    }
   ],
   "source": [
    "import pandas as pd\n",
    "import numpy as np\n",
    "import matplotlib.pyplot as plt\n",
    "import scipy as sns\n",
    "import keras\n",
    "from keras.models import Model,Sequential\n",
    "from keras.layers import Dense,MaxPooling2D,Activation,Flatten,Input,Conv2D,Dropout,AveragePooling2D,BatchNormalization\n",
    "from keras.layers import concatenate\n",
    "\n",
    "def conv2d_bn(X,bn_filter,kernel_size,padding=\"same\",strides=(1,1)):\n",
    "    \n",
    "    X=Conv2D(filters=bn_filter,kernel_size=kernel_size,padding=padding,strides=strides)(X)\n",
    "    X=BatchNormalization(axis=3)(X)\n",
    "    return X\n",
    "\n",
    "\n",
    "def inception(X,bn_filter):\n",
    "    branch1x1=conv2d_bn(X,bn_filter,(1,1),padding=\"same\",strides=(1,1))\n",
    "    \n",
    "    branch3x3=conv2d_bn(X,bn_filter,(1,1))\n",
    "    branch3x3=conv2d_bn(branch3x3,bn_filter,(3,3),padding=\"same\",strides=(1,1))\n",
    "    \n",
    "    branch5x5=conv2d_bn(X,bn_filter,(1,1))\n",
    "    branch5x5=conv2d_bn(branch5x5,bn_filter)\n",
    "    \n",
    "    branchpool=MaxPooling2D(pool_size=(3,3),strides=(1,1),padding=\"same\")(X)\n",
    "    branchpool=conv2d_bn(branchpool,bn_filter,kernel_size=(1,1))\n",
    "    \n",
    "    X=concatenate(branch1x1,branch3x3,branch5x5,branchpool)\n",
    "    return X\n",
    "\n",
    "def convnet(input_shape,classes):\n",
    "    input_x=Input(shape=input_shape)\n",
    "    X=conv2d_bn(input_x,64,(7,7),strides=(2,2),padding=\"same\")\n",
    "    X=MaxPooling2D(pool_size=(3,3),strides=(2,2),padding=\"same\")(X)\n",
    "    X=conv2d_bn(X,192,(3,3),strides=(1,1),padding=\"same\")\n",
    "    X=MaxPooling2D(pool_size=(3,3),strides=(2,2),padding=\"same\")(X)\n",
    "    \n",
    "    X=inception(X,64)\n",
    "    X=inception(X,120)\n",
    "    X=MaxPooling2D(pool_size=(3,3),strides=(2,2),padding=\"same\")(X)\n",
    "    X=inception(X,128)\n",
    "    X=inception(X,128)\n",
    "    X=inception(X,128)\n",
    "    X=inception(X,132)\n",
    "    X=inception(X,208)\n",
    "    X=MaxPooling2D(pool_size=(3,3),strides=(2,2),padding=\"same\")(X)\n",
    "    X=inception(X,208)\n",
    "    X=inception(X,256)\n",
    "    X=AveragePooling2D(pool_size=(7,7),strides=(7,7),padding=\"same\")(X)\n",
    "    X=Dropout(0.4)(X)\n",
    "    X=Dense(units=classes,activation=\"relu\")(X)\n",
    "    X=Dense(units=classes,activation=\"softmax\")(X)\n",
    "    model=Model(inputs=input_x,outputs=X)\n",
    "    return model\n",
    "\n",
    "model=convnet((800,800,3),1000)\n",
    "\n",
    "\n",
    "\n",
    "\n",
    "\n",
    "\n",
    "\n",
    "\n"
   ]
  }
 ],
 "metadata": {
  "kernelspec": {
   "display_name": "Python 3",
   "language": "python",
   "name": "python3"
  },
  "language_info": {
   "codemirror_mode": {
    "name": "ipython",
    "version": 3
   },
   "file_extension": ".py",
   "mimetype": "text/x-python",
   "name": "python",
   "nbconvert_exporter": "python",
   "pygments_lexer": "ipython3",
   "version": "3.6.8"
  }
 },
 "nbformat": 4,
 "nbformat_minor": 2
}
